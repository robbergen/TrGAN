{
 "cells": [
  {
   "cell_type": "markdown",
   "metadata": {},
   "source": [
    "# Import"
   ]
  },
  {
   "cell_type": "code",
   "execution_count": 1,
   "metadata": {},
   "outputs": [],
   "source": [
    "import numpy as np\n",
    "import matplotlib.pyplot as plt\n",
    "import sys\n",
    "src_path = 'C:/Users/robbe/Downloads/hecktor_train_v3/hecktor-main/src/'\n",
    "sys.path.append(src_path)\n",
    "import os\n",
    "import pathlib\n",
    "import numpy as np\n",
    "import nibabel as nib\n",
    "import sys\n",
    "from data import utils\n",
    "from nibabel.testing import data_path\n",
    "import ImageViewer3D as I3D\n",
    "\n",
    "import argparse\n",
    "import glob\n",
    "import imp\n",
    "import subprocess\n",
    "import yaml\n",
    "\n",
    "import seaborn as sns\n",
    "import pandas as pd\n",
    "\n",
    "import chainer\n",
    "import chainer.functions as F\n",
    "import cv2 as cv\n",
    "from chainer import Variable\n",
    "from chainer import serializers\n",
    "import cupy\n",
    "import infer\n",
    "\n",
    "from scipy.ndimage import zoom"
   ]
  },
  {
   "cell_type": "markdown",
   "metadata": {},
   "source": [
    "# Load conditional GAN"
   ]
  },
  {
   "cell_type": "code",
   "execution_count": 2,
   "metadata": {},
   "outputs": [
    {
     "name": "stderr",
     "output_type": "stream",
     "text": [
      "C:\\Users\\robbe\\tgan-master\\tgan-master\\infer.py:103: YAMLLoadWarning: calling yaml.load() without Loader=... is deprecated, as the default Loader is unsafe. Please read https://msg.pyyaml.org/load for full details.\n",
      "  config = yaml.load(open(glob.glob('{}/*.yml'.format(result_dir))[0]))\n",
      "E:\\Anaconda\\lib\\site-packages\\chainer\\functions\\connection\\convolution_nd.py:174: PerformanceWarning: The best algo of conv fwd might not be selected due to lack of workspace size (8388608)\n",
      "  cuda.cudnn.convolution_forward(\n"
     ]
    }
   ],
   "source": [
    "all_paths = utils.get_paths_to_patient_files('C:/Users/robbe/Downloads/hecktor_train_v3/hecktor_train/synthetic/')\n",
    "result_dir ='C:/Users/robbe/tgan-master/tgan-master/results/PrivacyTest-random50withheld'\n",
    "\n",
    "fsgen, vgen, vdis = infer.get_models(result_dir, 32000)\n",
    "fsgen.to_gpu()\n",
    "vgen.to_gpu()\n",
    "vdis.to_gpu()\n",
    "\n",
    "numsyn = 200\n",
    "n=10\n",
    "\n",
    "dis_output= np.ones(200,dtype='float32')\n",
    "\n",
    "noise = np.random.rand(64,201,64,64)*0.4\n",
    "cr_masks = np.load('cropped_masks.npy')\n",
    "cr_masks = (cr_masks+noise)*255/1.4\n",
    "cr_imgs = np.load('cropped_imgs.npy')\n",
    "cr_2ch = np.concatenate((np.expand_dims(cr_imgs,-1),np.expand_dims(cr_masks,-1)),axis=-1)\n",
    "cr_2ch = cr_2ch.astype('int')\n",
    "\n",
    "for j in range(numsyn//n):\n",
    "    #reals = np.expand_dims(np.transpose(cr_2ch,[2,3,0,1,4])[:,:,16:-16,n*j:n*j+n,0],axis=3)\n",
    "    #masks =  np.expand_dims(np.transpose(cr_2ch,[2,3,0,1,4])[:,:,16:-16,n*j:n*j+n,1],axis=3)\n",
    "    cr = np.transpose((cr_2ch[16:-16,n*j:n*j+n,:,:,:]/255*2-1),[1,4,0,2,3]).astype('float32') #n, 1, z, x, y\n",
    "    cr = chainer.Variable(cr)\n",
    "    cr.to_gpu()\n",
    "    \n",
    "    t = np.squeeze(cupy.asnumpy(vdis(cr).data))\n",
    "    dis_output[n*j:n*j+n] = t\n",
    "\n",
    "# cr.to_gpu()"
   ]
  },
  {
   "cell_type": "markdown",
   "metadata": {},
   "source": [
    "## Histogram of discriminator outputs for each sample"
   ]
  },
  {
   "cell_type": "code",
   "execution_count": 3,
   "metadata": {},
   "outputs": [
    {
     "name": "stdout",
     "output_type": "stream",
     "text": [
      "Within set mean/std:  0.0115 , 0.0164\n",
      "Outside set mean/std:  -0.0382 , 0.0231\n",
      "Hedges g: 2.71\n"
     ]
    },
    {
     "data": {
      "image/png": "[encoded data removed]",
      "text/plain": [
       "<Figure size 432x288 with 1 Axes>"
      ]
     },
     "metadata": {
      "needs_background": "light"
     },
     "output_type": "display_data"
    }
   ],
   "source": [
    "dis_output1 = np.delete(dis_output,np.arange(2,np.shape(dis_output)[0],4),axis=0)\n",
    "dis_output2 = dis_output[2::4]\n",
    "m1 = np.mean(dis_output1)\n",
    "m2 = np.mean(dis_output2)\n",
    "std1 = np.std(dis_output1)\n",
    "std2 = np.std(dis_output2)\n",
    "\n",
    "plt.hist([dis_output1, dis_output2],25);\n",
    "plt.legend(['Within training set','Outside training set'])\n",
    "plt.title('Discriminator outputs - 32000 iter');\n",
    "print('Within set mean/std: ', '{0:.3g}'.format(m1),',','{0:.3g}'.format(std1))\n",
    "print('Outside set mean/std: ', '{0:.3g}'.format(m2),',','{0:.3g}'.format(std2))\n",
    "\n",
    "sdpooled = np.sqrt(((len(dis_output1)-1)*std1**2 + (len(dis_output2)-1)*std2**2)/(len(dis_output)-2))\n",
    "g = (m1-m2)/sdpooled\n",
    "\n",
    "print('Hedges g:','{0:.3g}'.format(g))"
   ]
  },
  {
   "cell_type": "markdown",
   "metadata": {},
   "source": [
    "## Randomly sample 50 orange/blue"
   ]
  },
  {
   "cell_type": "code",
   "execution_count": 4,
   "metadata": {},
   "outputs": [
    {
     "name": "stdout",
     "output_type": "stream",
     "text": [
      "Accuracy of prediction: 0.975 +/- 0.00959\n"
     ]
    },
    {
     "name": "stderr",
     "output_type": "stream",
     "text": [
      "<ipython-input-4-65199252dc45>:15: DeprecationWarning: Calling np.sum(generator) is deprecated, and in the future will give a different result. Use np.sum(np.fromiter(generator)) or the python sum builtin instead.\n",
      "  res[i] = (np.sum(j for i, j in sub_pop_sorted[:50])/50)\n"
     ]
    }
   ],
   "source": [
    "import random\n",
    "# take second element for sort\n",
    "def takeFirst(elem):\n",
    "    return elem[0]\n",
    "\n",
    "#For each experiment: Rank each sample and calc accuracy of membership attack\n",
    "experiments = 1000\n",
    "res = np.zeros(experiments)\n",
    "\n",
    "for i in range(experiments):\n",
    "    shuffled = random.sample(list(dis_output1), 50)\n",
    "    sub_pop = (np.concatenate((shuffled,dis_output2)),np.concatenate((np.ones(50),np.zeros(50))))\n",
    "    sub_pop = [(sub_pop[0][i],sub_pop[1][i]) for i in range(100)]\n",
    "    sub_pop_sorted = sorted(sub_pop,key=takeFirst,reverse=True)\n",
    "    res[i] = (np.sum(j for i, j in sub_pop_sorted[:50])/50)\n",
    "\n",
    "print('Accuracy of prediction:','{0:.3g}'.format(np.mean(res)),'+/-','{0:.3g}'.format(np.std(res)))"
   ]
  },
  {
   "cell_type": "markdown",
   "metadata": {},
   "source": [
    "## Load unconditional GAN and test privacy"
   ]
  },
  {
   "cell_type": "code",
   "execution_count": 5,
   "metadata": {},
   "outputs": [],
   "source": [
    "all_paths = utils.get_paths_to_patient_files('C:/Users/robbe/Downloads/hecktor_train_v3/hecktor_train/synthetic/')\n",
    "result_dir ='C:/Users/robbe/tgan-master/tgan-master/results/PrivacyTest-last20witheld-unconditional'\n",
    "\n",
    "fsgen, vgen, vdis = infer.get_models(result_dir, 28000)\n",
    "fsgen.to_gpu()\n",
    "vgen.to_gpu()\n",
    "vdis.to_gpu()\n",
    "\n",
    "numsyn = 200\n",
    "n=10\n",
    "\n",
    "dis_output= np.ones(200,dtype='float32')\n",
    "\n",
    "cr_imgs = np.load('cropped_imgs.npy')\n",
    "\n",
    "for j in range(numsyn//n):\n",
    "    cr = np.transpose((cr_imgs[16:-16,n*j:n*j+n,:,:]/255*2-1),[1,0,2,3]).astype('float32') #n, 1, z, x, y\n",
    "    cr = np.expand_dims(cr,1)\n",
    "    cr = chainer.Variable(cr)\n",
    "    cr.to_gpu()\n",
    "    \n",
    "    t = np.squeeze(cupy.asnumpy(vdis(cr).data))\n",
    "    dis_output[n*j:n*j+n] = t"
   ]
  },
  {
   "cell_type": "code",
   "execution_count": 6,
   "metadata": {},
   "outputs": [
    {
     "name": "stdout",
     "output_type": "stream",
     "text": [
      "Within set mean/std:  -0.00531 , 0.024\n",
      "Outside set mean/std:  -0.047 , 0.0186\n",
      "Hedges g: 1.78\n"
     ]
    },
    {
     "data": {
      "image/png": "[encoded data removed]",
      "text/plain": [
       "<Figure size 432x288 with 1 Axes>"
      ]
     },
     "metadata": {
      "needs_background": "light"
     },
     "output_type": "display_data"
    }
   ],
   "source": [
    "m1 = np.mean(dis_output[:-20])\n",
    "m2 = np.mean(dis_output[-20:])\n",
    "std1 = np.std(dis_output[:-20])\n",
    "std2 = np.std(dis_output[-20:])\n",
    "\n",
    "plt.hist([dis_output[0:-20], dis_output[-20:]],25);\n",
    "plt.legend(['Within training set','Outside training set'])\n",
    "plt.title('Discriminator outputs - 28000 iter');\n",
    "print('Within set mean/std: ', '{0:.3g}'.format(m1),',','{0:.3g}'.format(std1))\n",
    "print('Outside set mean/std: ', '{0:.3g}'.format(m2),',','{0:.3g}'.format(std2))\n",
    "\n",
    "sdpooled = np.sqrt(((len(dis_output[:-20])-1)*std1**2 + (len(dis_output[-20:])-1)*std2**2)/(len(dis_output)-2))\n",
    "g = (m1-m2)/sdpooled\n",
    "\n",
    "print('Hedges g:','{0:.3g}'.format(g))"
   ]
  },
  {
   "cell_type": "code",
   "execution_count": 7,
   "metadata": {},
   "outputs": [
    {
     "name": "stdout",
     "output_type": "stream",
     "text": [
      "0.904 0.0242\n"
     ]
    },
    {
     "name": "stderr",
     "output_type": "stream",
     "text": [
      "<ipython-input-7-0e347e7b075d>:10: DeprecationWarning: Calling np.sum(generator) is deprecated, and in the future will give a different result. Use np.sum(np.fromiter(generator)) or the python sum builtin instead.\n",
      "  res[i] = (np.sum(j for i, j in sub_pop_sorted[:20])/20)\n"
     ]
    }
   ],
   "source": [
    "#For each experiment: Rank each sample and calc accuracy of membership attack\n",
    "experiments = 1000\n",
    "res = np.zeros(experiments)\n",
    "\n",
    "for i in range(experiments):\n",
    "    shuffled = random.sample(list(dis_output[:-20]), 20)\n",
    "    sub_pop = (np.concatenate((shuffled,dis_output[-20:])),np.concatenate((np.ones(20),np.zeros(20))))\n",
    "    sub_pop = [(sub_pop[0][i],sub_pop[1][i]) for i in range(40)]\n",
    "    sub_pop_sorted = sorted(sub_pop,key=takeFirst,reverse=True)\n",
    "    res[i] = (np.sum(j for i, j in sub_pop_sorted[:20])/20)\n",
    "\n",
    "print('{0:.3g}'.format(np.mean(res)),'{0:.3g}'.format(np.std(res)))"
   ]
  },
  {
   "cell_type": "markdown",
   "metadata": {},
   "source": [
    "# Interpolation Test"
   ]
  },
  {
   "cell_type": "code",
   "execution_count": 8,
   "metadata": {},
   "outputs": [],
   "source": [
    "#Want to take real masks and interpolate them instead. First do a straight comparison of real masks to \n",
    "#interpolated to see how different they are\n",
    "#Then compare generated images based on the masks\n",
    "#Then try dice score comparison.\n",
    "\n",
    "def calc_dice(a,b):\n",
    "    #a and b are N-D binary images\n",
    "    c = a.astype('int')+b.astype('int')\n",
    "    tf = np.sum(c[c==1])\n",
    "    tt = np.sum(c[c==2])\n",
    "    \n",
    "    return tt/(tf+tt)"
   ]
  },
  {
   "cell_type": "code",
   "execution_count": 9,
   "metadata": {},
   "outputs": [],
   "source": [
    "cr_masks = np.load('cropped_masks.npy')\n",
    "cr_interp = cr_masks[::2,:,:,:]\n",
    "cr_interp = zoom(cr_interp, (2, 1, 1, 1)).astype('int')"
   ]
  },
  {
   "cell_type": "code",
   "execution_count": 10,
   "metadata": {},
   "outputs": [
    {
     "name": "stderr",
     "output_type": "stream",
     "text": [
      "<ipython-input-8-543a14bf81ae>:12: RuntimeWarning: invalid value encountered in long_scalars\n",
      "  return tt/(tf+tt)\n"
     ]
    },
    {
     "name": "stdout",
     "output_type": "stream",
     "text": [
      "Mean dice score between interpolated and real masks: 0.63\n"
     ]
    }
   ],
   "source": [
    "dice_scores = [(calc_dice(cr_masks[:,i,:,:],np.round(cr_interp[:,i,:,:]))) for i in range(200)]\n",
    "print('Mean dice score between interpolated and real masks:' , '{0:.3g}'.format(np.nanmean(dice_scores)))"
   ]
  },
  {
   "cell_type": "markdown",
   "metadata": {},
   "source": [
    "## Generate 20 conditional images with real masks and interpolated masks "
   ]
  },
  {
   "cell_type": "code",
   "execution_count": 11,
   "metadata": {
    "scrolled": false
   },
   "outputs": [
    {
     "name": "stdout",
     "output_type": "stream",
     "text": [
      "C:\\Users\\robbe\\Downloads\\hecktor_train_v3\\hecktor-main\n",
      "C:\\Users\\robbe\\tgan-master\\tgan-master\n"
     ]
    },
    {
     "name": "stderr",
     "output_type": "stream",
     "text": [
      "<ipython-input-8-543a14bf81ae>:12: RuntimeWarning: invalid value encountered in long_scalars\n",
      "  return tt/(tf+tt)\n"
     ]
    }
   ],
   "source": [
    "import torch\n",
    "from torch.utils.data import DataLoader\n",
    "sys.path.append('C:\\\\Users\\\\robbe\\\\Downloads\\\\hecktor_train_v3\\\\hecktor-main\\\\src\\\\')\n",
    "import dataset\n",
    "import transforms\n",
    "import losses\n",
    "import metrics\n",
    "import trainer\n",
    "\n",
    "cr_imgs = np.load('cropped_imgs.npy')\n",
    "all_paths = utils.get_paths_to_patient_files('C:/Users/robbe/Downloads/hecktor_train_v3/hecktor_train/synthetic/')\n",
    "result_dir ='C:/Users/robbe/tgan-master/tgan-master/results/PrivacyTest-last20withheld'\n",
    "\n",
    "fsgen, vgen, vdis = infer.get_models(result_dir, 28000)\n",
    "fsgen.to_gpu()\n",
    "vgen.to_gpu()\n",
    "vdis.to_gpu()\n",
    "\n",
    "%cd C:/Users/robbe/Downloads/hecktor_train_v3/hecktor-main\n",
    "from src import models\n",
    "%cd C:/Users/robbe/tgan-master/tgan-master\n",
    "    \n",
    "m = models.FastSmoothSENormDeepUNet_supervision_skip_no_drop(in_channels=1, n_cls=2, n_filters=24) #2,2,12 or 1,2,24\n",
    "weights = torch.load('C:/Users/robbe/Downloads/hecktor_train_v3/hecktor-main/hecktor_training_cropped_PETONLYv4/best_model_weights.pt')\n",
    "m.load_state_dict(weights)\n",
    "\n",
    "numsyn = 200\n",
    "n=10\n",
    "\n",
    "noise = np.random.rand(64,201,64,64)*0.4\n",
    "cr_interp = (cr_interp+noise)*255/1.4\n",
    "cr_2ch_interp = np.concatenate((np.expand_dims(cr_imgs,-1),np.expand_dims(cr_interp,-1)),axis=-1)\n",
    "cr_2ch_interp = cr_2ch_interp.astype('int')\n",
    "\n",
    "sl = []\n",
    "sl_interp = []\n",
    "real_masks = np.load('cropped_masks.npy')\n",
    "real_masks = np.transpose(real_masks,[2,3,0,1]) #x,y,z,n\n",
    "\n",
    "for j in range(numsyn//n):\n",
    "\n",
    "    cr = np.transpose(np.expand_dims(cr_2ch_interp[16:-16,n*j:n*j+n,:,:,1]/255*2-1,axis=-1),[1,4,0,2,3]).astype('float32') #n, 1, z, x, y\n",
    "    cr = chainer.Variable(cr)\n",
    "    cr.to_gpu()\n",
    "    y, _, _ = infer.make_conditional_video(fsgen, vgen, n,cr)\n",
    "    y = y * 20 + 20\n",
    "    \n",
    "    cr2 = np.transpose(np.expand_dims(cr_2ch[16:-16,n*j:n*j+n,:,:,1]/255*2-1,axis=-1),[1,4,0,2,3]).astype('float32') #n, 1, z, x, y\n",
    "    cr2 = chainer.Variable(cr2)\n",
    "    cr2.to_gpu()\n",
    "    z, _, _ = infer.make_conditional_video(fsgen, vgen, n,cr2)\n",
    "    z = z * 20 + 20\n",
    "    \n",
    "    for i in range(n):\n",
    "        \n",
    "        syn_img_interp = np.pad(np.transpose(y,[3,4,2,0,1])[:,:,:,i,0],((0,0),(0,0),(16,16)),'edge')\n",
    "        syn_img_norm_interp = (syn_img_interp-np.mean(syn_img_interp))/(np.std(syn_img_interp)+1e-3)\n",
    "        input1_interp = np.expand_dims(syn_img_norm_interp,[0, 1])\n",
    "        \n",
    "        syn_img = np.pad(np.transpose(z,[3,4,2,0,1])[:,:,:,i,0],((0,0),(0,0),(16,16)),'edge')\n",
    "        syn_img_norm = (syn_img-np.mean(syn_img))/(np.std(syn_img)+1e-3)\n",
    "        input1 = np.expand_dims(syn_img_norm,[0, 1])\n",
    "        \n",
    "        with torch.no_grad():\n",
    "            ct_gtvt_img = m(torch.FloatTensor(input1)).cpu().detach().numpy()[0,0,:,:,:]\n",
    "            ct_gtvt_img_interp = m(torch.FloatTensor(input1_interp)).cpu().detach().numpy()[0,0,:,:,:]\n",
    "\n",
    "        ct_gtvt_img[ct_gtvt_img>0.5]=1\n",
    "        ct_gtvt_img[ct_gtvt_img<0.5]=0\n",
    "        ct_gtvt_img_interp[ct_gtvt_img_interp>0.5]=1\n",
    "        ct_gtvt_img_interp[ct_gtvt_img_interp<0.5]=0\n",
    "        \n",
    "        \n",
    "        s = calc_dice(ct_gtvt_img,real_masks[:,:,:,n*j+i])\n",
    "        sl.append(s)\n",
    "        s_interp = calc_dice(ct_gtvt_img_interp,real_masks[:,:,:,n*j+i])\n",
    "        sl_interp.append(s_interp)\n",
    "        \n",
    "        if (j==1 & i == 4):\n",
    "            I3D.ImageSliceViewer3D(syn_img_interp)\n",
    "            I3D.ImageSliceViewer3D(ct_gtvt_img_interp)\n",
    "            I3D.ImageSliceViewer3D(syn_img)\n",
    "            I3D.ImageSliceViewer3D(ct_gtvt_img)\n"
   ]
  },
  {
   "cell_type": "code",
   "execution_count": 12,
   "metadata": {
    "scrolled": false
   },
   "outputs": [
    {
     "data": {
      "application/vnd.jupyter.widget-view+json": {
       "model_id": "cb6aef121bdf4e60a1a430ce0c657f21",
       "version_major": 2,
       "version_minor": 0
      },
      "text/plain": [
       "interactive(children=(RadioButtons(description='Slice plane selection:', options=('x-y', 'y-z', 'z-x'), style=…"
      ]
     },
     "metadata": {},
     "output_type": "display_data"
    },
    {
     "data": {
      "application/vnd.jupyter.widget-view+json": {
       "model_id": "19391bb126244b21a258ebdfb24cc8c8",
       "version_major": 2,
       "version_minor": 0
      },
      "text/plain": [
       "interactive(children=(RadioButtons(description='Slice plane selection:', options=('x-y', 'y-z', 'z-x'), style=…"
      ]
     },
     "metadata": {},
     "output_type": "display_data"
    },
    {
     "data": {
      "text/plain": [
       "<ImageViewer3D.ImageSliceViewer3D at 0x27e0b813b20>"
      ]
     },
     "execution_count": 12,
     "metadata": {},
     "output_type": "execute_result"
    }
   ],
   "source": [
    "# # I3D.ImageSliceViewer3D(syn_img_interp)\n",
    "# I3D.ImageSliceViewer3D(ct_gtvt_img_interp-real_masks[:,:,:,44])\n",
    "# # I3D.ImageSliceViewer3D(syn_img)\n",
    "# I3D.ImageSliceViewer3D(ct_gtvt_img-real_masks[:,:,:,44])\n",
    "\n",
    "I3D.ImageSliceViewer3D(cr_2ch[:,0,:,:,1])\n",
    "I3D.ImageSliceViewer3D(cr_2ch_interp[:,0,:,:,1])"
   ]
  },
  {
   "cell_type": "code",
   "execution_count": 13,
   "metadata": {},
   "outputs": [
    {
     "data": {
      "text/plain": [
       "Text(0.5, 1.0, 'Dice score histogram for images generated from original masks')"
      ]
     },
     "execution_count": 13,
     "metadata": {},
     "output_type": "execute_result"
    },
    {
     "data": {
      "image/png": "[encoded data removed]",
      "text/plain": [
       "<Figure size 432x288 with 1 Axes>"
      ]
     },
     "metadata": {
      "needs_background": "light"
     },
     "output_type": "display_data"
    }
   ],
   "source": [
    "plt.hist(sl);\n",
    "plt.title('Dice score histogram for images generated from original masks')"
   ]
  },
  {
   "cell_type": "code",
   "execution_count": 14,
   "metadata": {},
   "outputs": [
    {
     "data": {
      "text/plain": [
       "Text(0.5, 1.0, 'Dice score histogram for images generated from interpolated masks')"
      ]
     },
     "execution_count": 14,
     "metadata": {},
     "output_type": "execute_result"
    },
    {
     "data": {
      "image/png": "[encoded data removed]",
      "text/plain": [
       "<Figure size 432x288 with 1 Axes>"
      ]
     },
     "metadata": {
      "needs_background": "light"
     },
     "output_type": "display_data"
    }
   ],
   "source": [
    "plt.hist(sl_interp);\n",
    "plt.title('Dice score histogram for images generated from interpolated masks')"
   ]
  },
  {
   "cell_type": "code",
   "execution_count": 18,
   "metadata": {},
   "outputs": [
    {
     "name": "stdout",
     "output_type": "stream",
     "text": [
      "Mean DSC after training on original masks: 0.565\n",
      "Mean DSC after training on interpolated masks: 0.42\n"
     ]
    }
   ],
   "source": [
    "print('Mean DSC after training on original masks:','{0:.3g}'.format(np.nanmean(sl)))\n",
    "print('Mean DSC after training on interpolated masks:','{0:.3g}'.format(np.nanmean(sl_interp)))"
   ]
  },
  {
   "cell_type": "code",
   "execution_count": null,
   "metadata": {},
   "outputs": [],
   "source": []
  }
 ],
 "metadata": {
  "kernelspec": {
   "display_name": "Python 3",
   "language": "python",
   "name": "python3"
  },
  "language_info": {
   "codemirror_mode": {
    "name": "ipython",
    "version": 3
   },
   "file_extension": ".py",
   "mimetype": "text/x-python",
   "name": "python",
   "nbconvert_exporter": "python",
   "pygments_lexer": "ipython3",
   "version": "3.8.5"
  }
 },
 "nbformat": 4,
 "nbformat_minor": 4
}
