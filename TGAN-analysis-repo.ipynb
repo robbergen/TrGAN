{
 "cells": [
  {
   "cell_type": "markdown",
   "metadata": {},
   "source": [
    "## Import"
   ]
  },
  {
   "cell_type": "code",
   "execution_count": 1,
   "metadata": {},
   "outputs": [
    {
     "name": "stdout",
     "output_type": "stream",
     "text": [
      "/home/dmi\n",
      "/home/dmi/tganv1/tgan-master\n"
     ]
    }
   ],
   "source": [
    "import numpy as np\n",
    "import matplotlib.pyplot as plt\n",
    "import sys\n",
    "src_path = '/home/dmi/src/'\n",
    "sys.path.append(src_path)\n",
    "import os\n",
    "import pathlib\n",
    "import numpy as np\n",
    "import nibabel as nib\n",
    "import sys\n",
    "from data import utils\n",
    "from nibabel.testing import data_path\n",
    "import ImageViewer3D as I3D\n",
    "import infer\n",
    "\n",
    "import argparse\n",
    "import glob\n",
    "import imp\n",
    "import subprocess\n",
    "import yaml\n",
    "\n",
    "import seaborn as sns\n",
    "import pandas as pd\n",
    "\n",
    "import chainer\n",
    "import chainer.functions as F\n",
    "import cv2 as cv\n",
    "from chainer import Variable\n",
    "from chainer import serializers\n",
    "import os\n",
    "import sys\n",
    "import pathlib\n",
    "import matplotlib.pyplot as plt\n",
    "\n",
    "import torch\n",
    "from torch.utils.data import DataLoader\n",
    "sys.path.append('/home/dmi/src')\n",
    "import dataset\n",
    "import transforms\n",
    "import losses\n",
    "import metrics\n",
    "import trainer\n",
    "\n",
    "%cd /home/dmi/\n",
    "from src import models\n",
    "%cd /home/dmi/tganv1/tgan-master"
   ]
  },
  {
   "cell_type": "markdown",
   "metadata": {},
   "source": [
    "## Set up .npy files from cropped 64x64 images"
   ]
  },
  {
   "cell_type": "code",
   "execution_count": 12,
   "metadata": {},
   "outputs": [],
   "source": [
    "all_paths = utils.get_paths_to_patient_files('/hecktor_nii_cropped/')\n",
    "cr_imgs = np.empty([64,201,64,64])\n",
    "cr_masks = np.empty([64,201,64,64])\n",
    "\n",
    "for i in range(len(all_paths)):\n",
    "    ct_gtvt = nib.load(all_paths[i][1])\n",
    "    pt = nib.load(all_paths[i][0])\n",
    "    \n",
    "    cr_imgs[:,i,:,:] = np.transpose(pt.get_fdata(),[2,0,1])\n",
    "    cr_masks[:,i,:,:] = np.transpose(ct_gtvt.get_fdata(),[2,0,1])\n",
    "\n",
    "mx = np.max(cr_imgs)\n",
    "mn = np.min(cr_imgs)\n",
    "cr_imgs = (cr_imgs - mn)/(mx-mn)*255\n",
    "cr_imgs = cr_imgs.astype('int')\n",
    "\n",
    "np.save('cropped_imgs.npy',cr_imgs)\n",
    "np.save('cropped_masks.npy',cr_masks)"
   ]
  },
  {
   "cell_type": "markdown",
   "metadata": {},
   "source": [
    "## Set up 2-channel .npy for conditional TrGAN"
   ]
  },
  {
   "cell_type": "code",
   "execution_count": 14,
   "metadata": {},
   "outputs": [],
   "source": [
    "noise = np.random.rand(64,201,64,64)*0.4\n",
    "cr_masks = np.load('cropped_masks.npy')\n",
    "cr_masks = (cr_masks+noise)*255/1.4\n",
    "\n",
    "cr_imgs = np.load('cropped_imgs.npy')\n",
    "cr_2ch = np.concatenate((np.expand_dims(cr_imgs,-1),np.expand_dims(cr_masks,-1)),axis=-1)\n",
    "cr_2ch = cr_2ch.astype('int')\n",
    "#cr_2ch is size (z,n,x,y,ch)\n",
    "np.save('cropped_2ch_noise_0_4.npy',cr_2ch)"
   ]
  },
  {
   "cell_type": "markdown",
   "metadata": {},
   "source": [
    "## View image with 3-D viewer"
   ]
  },
  {
   "cell_type": "code",
   "execution_count": 2,
   "metadata": {},
   "outputs": [
    {
     "data": {
      "application/vnd.jupyter.widget-view+json": {
       "model_id": "2789b8d5feae4c05a0f9d9df69bfcb1b",
       "version_major": 2,
       "version_minor": 0
      },
      "text/plain": [
       "interactive(children=(RadioButtons(description='Slice plane selection:', options=('x-y', 'y-z', 'z-x'), style=…"
      ]
     },
     "metadata": {},
     "output_type": "display_data"
    },
    {
     "data": {
      "text/plain": [
       "<ImageViewer3D.ImageSliceViewer3D at 0x7fe915e9b310>"
      ]
     },
     "execution_count": 2,
     "metadata": {},
     "output_type": "execute_result"
    }
   ],
   "source": [
    "#Axial slices are along y-z direction\n",
    "cr = np.load('cropped_2ch_noise_0_4.npy')\n",
    "I3D.ImageSliceViewer3D(cr[:,0,:,:,0])"
   ]
  },
  {
   "cell_type": "markdown",
   "metadata": {},
   "source": [
    "## Load the trained generator and generate images"
   ]
  },
  {
   "cell_type": "markdown",
   "metadata": {},
   "source": [
    "### Unconditional images"
   ]
  },
  {
   "cell_type": "code",
   "execution_count": 3,
   "metadata": {
    "scrolled": true
   },
   "outputs": [
    {
     "name": "stderr",
     "output_type": "stream",
     "text": [
      "<ipython-input-2-e3697b0d1358>:81: YAMLLoadWarning: calling yaml.load() without Loader=... is deprecated, as the default Loader is unsafe. Please read https://msg.pyyaml.org/load for full details.\n",
      "  config = yaml.load(open(glob.glob('{}/*.yml'.format(result_dir))[0]))\n"
     ]
    },
    {
     "name": "stdout",
     "output_type": "stream",
     "text": [
      "variable([[-0.12309831]\n",
      "          [-0.07927059]]) (1, 100, 1)\n",
      "variable([[-0.01474876]\n",
      "          [-0.06441099]]) (1, 1024, 1)\n"
     ]
    }
   ],
   "source": [
    "np.random.seed(0)\n",
    "chainer.cuda.cupy.random.seed(0)\n",
    "\n",
    "result_dir ='' #Path to unconditional model directory\n",
    "\n",
    "chainer.cuda.Device(0).use()\n",
    "\n",
    "fsgen, vgen, _ = infer.get_models(result_dir, 28000) #Choose model iteration here\n",
    "fsgen.to_gpu()\n",
    "vgen.to_gpu()\n",
    "\n",
    "z, _, _ = infer.make_video(fsgen, vgen, n=1)\n",
    "z = z * 20 + 20\n"
   ]
  },
  {
   "cell_type": "markdown",
   "metadata": {},
   "source": [
    "### Conditional images based on real masks"
   ]
  },
  {
   "cell_type": "code",
   "execution_count": 3,
   "metadata": {},
   "outputs": [
    {
     "name": "stderr",
     "output_type": "stream",
     "text": [
      "/home/dmi/tganv1/tgan-master/infer.py:100: YAMLLoadWarning: calling yaml.load() without Loader=... is deprecated, as the default Loader is unsafe. Please read https://msg.pyyaml.org/load for full details.\n",
      "  config = yaml.load(open(glob.glob('{}/*.yml'.format(result_dir))[0]))\n"
     ]
    }
   ],
   "source": [
    "#Number of images to generate\n",
    "n = 10\n",
    "\n",
    "#Load real masks and images for comparison\n",
    "#Limit size to 64x64x32\n",
    "reals = np.transpose(cr,[2,3,0,1,4])[:,:,16:-16,:n,0] # (x,y,z,n)\n",
    "masks = np.transpose(cr,[2,3,0,1,4])[:,:,16:-16,:n,1] # (x,y,z,n)\n",
    "cr = np.transpose(np.expand_dims(cr[16:-16,:n,:,:,1]/255*2-1,axis=-1),[1,4,0,2,3]).astype('float32') #(n, 1, z, x, y)\n",
    "cr = chainer.Variable(cr)\n",
    "\n",
    "np.random.seed(0)\n",
    "chainer.cuda.cupy.random.seed(0)\n",
    "\n",
    "result_dir ='/home/dmi/tganv1/tgan-master/results/mnist_wgan_svd_zdim-100_no-beta-all_init-uniform-all_2022-05-07_17-20-03_0/'\n",
    "\n",
    "chainer.cuda.Device(0).use()\n",
    "\n",
    "fsgen, vgen, vdis = infer.get_models(result_dir, 33000) #Choose model iteration\n",
    "fsgen.to_gpu()\n",
    "vgen.to_gpu()\n",
    "cr.to_gpu()\n",
    "\n",
    "y, _, _ = infer.make_conditional_video(fsgen, vgen, n, cr)\n",
    "y = y * 128 + 128"
   ]
  },
  {
   "cell_type": "markdown",
   "metadata": {},
   "source": [
    "## View the images"
   ]
  },
  {
   "cell_type": "code",
   "execution_count": 4,
   "metadata": {
    "scrolled": false
   },
   "outputs": [
    {
     "name": "stdout",
     "output_type": "stream",
     "text": [
      "Subject 0\n"
     ]
    },
    {
     "data": {
      "application/vnd.jupyter.widget-view+json": {
       "model_id": "fa105b3596f14f7b9f66c3690d86b7a3",
       "version_major": 2,
       "version_minor": 0
      },
      "text/plain": [
       "interactive(children=(RadioButtons(description='Slice plane selection:', options=('x-y', 'y-z', 'z-x'), style=…"
      ]
     },
     "metadata": {},
     "output_type": "display_data"
    },
    {
     "name": "stdout",
     "output_type": "stream",
     "text": [
      "Mask\n"
     ]
    },
    {
     "data": {
      "application/vnd.jupyter.widget-view+json": {
       "model_id": "6b18fc1150654092982f4d7833bd20c4",
       "version_major": 2,
       "version_minor": 0
      },
      "text/plain": [
       "interactive(children=(RadioButtons(description='Slice plane selection:', options=('x-y', 'y-z', 'z-x'), style=…"
      ]
     },
     "metadata": {},
     "output_type": "display_data"
    },
    {
     "name": "stdout",
     "output_type": "stream",
     "text": [
      "Real Image\n"
     ]
    },
    {
     "data": {
      "application/vnd.jupyter.widget-view+json": {
       "model_id": "8e42b4a963214f049618986c6cc20e26",
       "version_major": 2,
       "version_minor": 0
      },
      "text/plain": [
       "interactive(children=(RadioButtons(description='Slice plane selection:', options=('x-y', 'y-z', 'z-x'), style=…"
      ]
     },
     "metadata": {},
     "output_type": "display_data"
    },
    {
     "data": {
      "text/plain": [
       "<ImageViewer3D.ImageSliceViewer3D at 0x7fe8fc503c50>"
      ]
     },
     "execution_count": 4,
     "metadata": {},
     "output_type": "execute_result"
    }
   ],
   "source": [
    "i=0\n",
    "syn_img = np.transpose(y,[3,4,2,0,1])[:,:,:,i,0] #(x,y,z,N,1)\n",
    "print('Subject',i)\n",
    "I3D.ImageSliceViewer3D(np.transpose(y,[3,4,2,0,1])[:,:,:,i,0]) #(x,y,z,N,1)\n",
    "print('Mask')\n",
    "I3D.ImageSliceViewer3D(masks[:,:,:,i]*(masks[:,:,:,i]>120))\n",
    "print('Real Image')\n",
    "I3D.ImageSliceViewer3D(reals[:,:,:,i])"
   ]
  },
  {
   "cell_type": "code",
   "execution_count": 11,
   "metadata": {},
   "outputs": [
    {
     "data": {
      "image/png": "[encoded data removed]",
      "text/plain": [
       "<Figure size 1800x1200 with 6 Axes>"
      ]
     },
     "metadata": {},
     "output_type": "display_data"
    }
   ],
   "source": [
    "from copy import copy\n",
    "plt.rcdefaults()\n",
    "palette = copy(plt.cm.Greys_r)\n",
    "palette.set_bad(color='r', alpha=1)  # set color for the mask\n",
    "plt.figure(figsize=(18,12))\n",
    "sl_list = [16, 20, 24]\n",
    "sample_list = [0,1,2]\n",
    "\n",
    "for i in range(3):\n",
    "    syn_img = np.transpose(y,[3,4,2,0,1])[:,:,sl_list[i],sample_list[i],0]\n",
    "    mask = (masks[:,:,sl_list[i],sample_list[i]]>100)\n",
    "    syn_img_mask = np.ma.masked_where(syn_img * mask != 0, syn_img)\n",
    "\n",
    "    real_img = (reals[:,:,sl_list[i],sample_list[i]])\n",
    "    real_img_mask = np.ma.masked_where(real_img * mask != 0, real_img)\n",
    "\n",
    "\n",
    "    plt.subplot(2,3,i+1)\n",
    "    plt.imshow(syn_img,cmap=palette,interpolation='none',vmin=0,vmax=25)\n",
    "    plt.imshow(syn_img_mask[:, :], cmap=palette, interpolation='none',alpha=0.5)\n",
    "    plt.axis('off')\n",
    "    if i < 3:\n",
    "        plt.title('Mask '+str(i+1),fontsize=25)\n",
    "    if i==0:\n",
    "        plt.axis('on')\n",
    "        ax = plt.gca()\n",
    "        ax.set_xticks([])\n",
    "        ax.set_yticks([])\n",
    "        plt.ylabel('Synthetic Images',fontsize=25)\n",
    "    plt.subplot(2,3,i+4)\n",
    "    plt.axis('off')\n",
    "    if i==0:\n",
    "        plt.axis('on')\n",
    "        ax = plt.gca()\n",
    "        ax.set_xticks([])\n",
    "        ax.set_yticks([])\n",
    "        plt.ylabel('Real Images',fontsize=25)\n",
    "    plt.imshow(real_img,cmap=palette,interpolation='none',vmin=0,vmax=25)\n",
    "    plt.imshow(real_img_mask[:, :], cmap=palette, interpolation='none',alpha=0.5)\n",
    "    \n",
    "\n",
    "plt.show()"
   ]
  },
  {
   "cell_type": "markdown",
   "metadata": {},
   "source": [
    "## Load the segmentation model"
   ]
  },
  {
   "cell_type": "code",
   "execution_count": 6,
   "metadata": {},
   "outputs": [
    {
     "data": {
      "text/plain": [
       "<All keys matched successfully>"
      ]
     },
     "execution_count": 6,
     "metadata": {},
     "output_type": "execute_result"
    }
   ],
   "source": [
    "m = models.FastSmoothSENormDeepUNet_supervision_skip_no_drop(in_channels=1, n_cls=2, n_filters=24) #2,2,12 or 1,2,24\n",
    "weights = torch.load('/home/dmi/hecktor_training_cropped_PETONLYv4/best_model_weights.pt')\n",
    "m.load_state_dict(weights)"
   ]
  },
  {
   "cell_type": "markdown",
   "metadata": {},
   "source": [
    "## View example of segmentation"
   ]
  },
  {
   "cell_type": "code",
   "execution_count": 7,
   "metadata": {},
   "outputs": [],
   "source": [
    "y_processed = np.transpose(np.pad(y,((0,0),(0,0),(16,16),(0,0),(0,0))),[0,1,3,4,2])"
   ]
  },
  {
   "cell_type": "code",
   "execution_count": 8,
   "metadata": {},
   "outputs": [],
   "source": [
    "for i in range(np.shape(y_processed)[0]):\n",
    "        y_processed[i,:,:,:,:] = (y_processed[i,:,:,:,:]-np.mean(y_processed[i,:,:,:,:]))/(np.std(y_processed[i,:,:,:,:])+1e-3)\n",
    "\n",
    "with torch.no_grad():\n",
    "        y_pred = m(torch.FloatTensor(y_processed)).cpu().detach().numpy()\n",
    "\n",
    "y_pred = y_pred>0.5"
   ]
  },
  {
   "cell_type": "code",
   "execution_count": 10,
   "metadata": {
    "scrolled": false
   },
   "outputs": [
    {
     "name": "stdout",
     "output_type": "stream",
     "text": [
      "Synth Image\n"
     ]
    },
    {
     "data": {
      "application/vnd.jupyter.widget-view+json": {
       "model_id": "eaca7d6af2384879901239cf1e45d999",
       "version_major": 2,
       "version_minor": 0
      },
      "text/plain": [
       "interactive(children=(RadioButtons(description='Slice plane selection:', options=('x-y', 'y-z', 'z-x'), style=…"
      ]
     },
     "metadata": {},
     "output_type": "display_data"
    },
    {
     "name": "stdout",
     "output_type": "stream",
     "text": [
      "Synth Segmentation\n"
     ]
    },
    {
     "data": {
      "application/vnd.jupyter.widget-view+json": {
       "model_id": "161234f067dc465fb8d380a6245ae867",
       "version_major": 2,
       "version_minor": 0
      },
      "text/plain": [
       "interactive(children=(RadioButtons(description='Slice plane selection:', options=('x-y', 'y-z', 'z-x'), style=…"
      ]
     },
     "metadata": {},
     "output_type": "display_data"
    },
    {
     "name": "stdout",
     "output_type": "stream",
     "text": [
      "Real Image\n"
     ]
    },
    {
     "data": {
      "application/vnd.jupyter.widget-view+json": {
       "model_id": "a44a88f07c6142059540588753ad91e8",
       "version_major": 2,
       "version_minor": 0
      },
      "text/plain": [
       "interactive(children=(RadioButtons(description='Slice plane selection:', options=('x-y', 'y-z', 'z-x'), style=…"
      ]
     },
     "metadata": {},
     "output_type": "display_data"
    },
    {
     "name": "stdout",
     "output_type": "stream",
     "text": [
      "Real Segmentation\n"
     ]
    },
    {
     "data": {
      "application/vnd.jupyter.widget-view+json": {
       "model_id": "4ea52d4d6c0b4bb982110b50f6e12c9c",
       "version_major": 2,
       "version_minor": 0
      },
      "text/plain": [
       "interactive(children=(RadioButtons(description='Slice plane selection:', options=('x-y', 'y-z', 'z-x'), style=…"
      ]
     },
     "metadata": {},
     "output_type": "display_data"
    },
    {
     "name": "stdout",
     "output_type": "stream",
     "text": [
      "Real Label\n"
     ]
    },
    {
     "data": {
      "application/vnd.jupyter.widget-view+json": {
       "model_id": "01e19033ced64a52926bdb9cf2b5aba3",
       "version_major": 2,
       "version_minor": 0
      },
      "text/plain": [
       "interactive(children=(RadioButtons(description='Slice plane selection:', options=('x-y', 'y-z', 'z-x'), style=…"
      ]
     },
     "metadata": {},
     "output_type": "display_data"
    },
    {
     "data": {
      "text/plain": [
       "<ImageViewer3D.ImageSliceViewer3D at 0x7fe86849b590>"
      ]
     },
     "execution_count": 10,
     "metadata": {},
     "output_type": "execute_result"
    }
   ],
   "source": [
    "j = 2 #choose random image\n",
    "\n",
    "print('Synth Image')\n",
    "I3D.ImageSliceViewer3D(y_processed[j,0,:,:,16:-16])\n",
    "\n",
    "print('Synth Segmentation')\n",
    "I3D.ImageSliceViewer3D(y_pred[j,0,:,:,16:-16])\n",
    "real_masks = masks[:,:,:,:]*(masks[:,:,:,:]>120)\n",
    "real_masks = np.pad(real_masks,((0,0),(0,0),(16,16),(0,0)),'constant')\n",
    "real_masks=real_masks>0\n",
    "\n",
    "print('Real Image')\n",
    "I3D.ImageSliceViewer3D(reals[:,:,:,j])\n",
    "\n",
    "print('Real Segmentation')\n",
    "#Segmentation model requires 64 slices minimum so we'll pad here\n",
    "test = np.expand_dims(np.transpose(np.pad(reals,((0,0),(0,0),(16,16),(0,0))),[3,0,1,2]),axis=1)\n",
    "test = (test-np.mean(test))/(np.std(test)+1e-3)\n",
    "with torch.no_grad():\n",
    "    test = m(torch.FloatTensor(test)).cpu().detach().numpy()\n",
    "test = test>0.5    \n",
    "I3D.ImageSliceViewer3D(test[j,0,:,:,16:-16])\n",
    "\n",
    "print('Real Label')\n",
    "I3D.ImageSliceViewer3D(real_masks[:,:,16:-16,j])"
   ]
  }
 ],
 "metadata": {
  "kernelspec": {
   "display_name": "Python 3",
   "language": "python",
   "name": "python3"
  },
  "language_info": {
   "codemirror_mode": {
    "name": "ipython",
    "version": 3
   },
   "file_extension": ".py",
   "mimetype": "text/x-python",
   "name": "python",
   "nbconvert_exporter": "python",
   "pygments_lexer": "ipython3",
   "version": "3.7.9"
  }
 },
 "nbformat": 4,
 "nbformat_minor": 4
}
